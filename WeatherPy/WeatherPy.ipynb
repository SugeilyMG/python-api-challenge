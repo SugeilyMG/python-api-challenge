{
 "cells": [
  {
   "cell_type": "code",
   "execution_count": 9,
   "metadata": {},
   "outputs": [],
   "source": [
    "import json\n",
    "import requests\n",
    "from config import api_key"
   ]
  },
  {
   "cell_type": "code",
   "execution_count": 16,
   "metadata": {},
   "outputs": [],
   "source": [
    "url = \"http://api.openweathermap.org/data/2.5/find?\"\n",
    "\n",
    "# Build query URL\n",
    "query_url = url + \"lat=\" + \"0.0\" + \"&lon=\" + \"0.0\" + \"&cnt=\" + \"50\" + \"&appid=\" + api_key\n",
    "\n",
    "#api.openweathermap.org/data/2.5/find?lat={lat}&lon={lon}&cnt={cnt}&appid={API key}"
   ]
  },
  {
   "cell_type": "code",
   "execution_count": 17,
   "metadata": {},
   "outputs": [
    {
     "name": "stdout",
     "output_type": "stream",
     "text": [
      "http://api.openweathermap.org/data/2.5/find?lat=0.0&lon=0.0&cnt=50&appid=723e67157c2e268fccb8497b3c0a7a1a\n"
     ]
    }
   ],
   "source": [
    "print(query_url)"
   ]
  },
  {
   "cell_type": "code",
   "execution_count": 18,
   "metadata": {},
   "outputs": [],
   "source": [
    "weather_response = requests.get(query_url)\n",
    "weather_json = weather_response.json()"
   ]
  },
  {
   "cell_type": "code",
   "execution_count": 19,
   "metadata": {},
   "outputs": [
    {
     "name": "stdout",
     "output_type": "stream",
     "text": [
      "{\n",
      "  \"message\": \"accurate\",\n",
      "  \"cod\": \"200\",\n",
      "  \"count\": 1,\n",
      "  \"list\": [\n",
      "    {\n",
      "      \"id\": 6295630,\n",
      "      \"name\": \"Globe\",\n",
      "      \"coord\": {\n",
      "        \"lat\": 0,\n",
      "        \"lon\": 0\n",
      "      },\n",
      "      \"main\": {\n",
      "        \"temp\": 300.17,\n",
      "        \"feels_like\": 300.64,\n",
      "        \"temp_min\": 300.17,\n",
      "        \"temp_max\": 300.17,\n",
      "        \"pressure\": 1009,\n",
      "        \"humidity\": 82,\n",
      "        \"sea_level\": 1009,\n",
      "        \"grnd_level\": 1009\n",
      "      },\n",
      "      \"dt\": 1613268500,\n",
      "      \"wind\": {\n",
      "        \"speed\": 7.37,\n",
      "        \"deg\": 199\n",
      "      },\n",
      "      \"sys\": {\n",
      "        \"country\": \"\"\n",
      "      },\n",
      "      \"rain\": {\n",
      "        \"1h\": 0.19\n",
      "      },\n",
      "      \"snow\": null,\n",
      "      \"clouds\": {\n",
      "        \"all\": 80\n",
      "      },\n",
      "      \"weather\": [\n",
      "        {\n",
      "          \"id\": 500,\n",
      "          \"main\": \"Rain\",\n",
      "          \"description\": \"light rain\",\n",
      "          \"icon\": \"10n\"\n",
      "        }\n",
      "      ]\n",
      "    }\n",
      "  ]\n",
      "}\n"
     ]
    }
   ],
   "source": [
    "print(json.dumps(weather_json, indent=2))"
   ]
  },
  {
   "cell_type": "code",
   "execution_count": null,
   "metadata": {},
   "outputs": [],
   "source": []
  }
 ],
 "metadata": {
  "kernelspec": {
   "display_name": "Python 3",
   "language": "python",
   "name": "python3"
  },
  "language_info": {
   "codemirror_mode": {
    "name": "ipython",
    "version": 3
   },
   "file_extension": ".py",
   "mimetype": "text/x-python",
   "name": "python",
   "nbconvert_exporter": "python",
   "pygments_lexer": "ipython3",
   "version": "3.8.3"
  }
 },
 "nbformat": 4,
 "nbformat_minor": 4
}
